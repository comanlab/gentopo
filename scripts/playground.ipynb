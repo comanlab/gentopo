{
 "cells": [
  {
   "cell_type": "code",
   "execution_count": 15,
   "id": "29822855-6ef0-465d-886f-676f8a9333ee",
   "metadata": {},
   "outputs": [],
   "source": [
    "import sys\n",
    "import networkx as nx\n",
    "import matplotlib.pyplot as plt\n",
    "import glob\n",
    "import os\n",
    "import random\n",
    "import datetime\n",
    "import re\n",
    "import json\n",
    "\n",
    "sys.path.append(\"../src\")"
   ]
  },
  {
   "cell_type": "code",
   "execution_count": 16,
   "id": "2479f129",
   "metadata": {},
   "outputs": [
    {
     "data": {
      "text/plain": [
       "{14: <networkx.classes.graph.Graph at 0x117a0edd0>,\n",
       " 16: <networkx.classes.graph.Graph at 0x117a05960>,\n",
       " 18: <networkx.classes.graph.Graph at 0x117b767d0>,\n",
       " 20: <networkx.classes.graph.Graph at 0x117a06a10>,\n",
       " 22: <networkx.classes.graph.Graph at 0x117a10220>}"
      ]
     },
     "execution_count": 16,
     "metadata": {},
     "output_type": "execute_result"
    }
   ],
   "source": [
    "from gentopo.topology.families import families\n",
    "from gentopo.topology.measures import SmallWorldReference\n",
    "\n",
    "reference_graphs = SmallWorldReference([14, 16, 18, 20, 22], 3, 4, 5)\n",
    "reference_graphs.generate()\n",
    "\n",
    "# nx.draw_networkx(lattice_graph, nx.circular_layout(lattice_graph))\n",
    "reference_graphs.lattice_topology"
   ]
  },
  {
   "cell_type": "code",
   "execution_count": 10,
   "id": "da25b1a8",
   "metadata": {},
   "outputs": [
    {
     "data": {
      "text/plain": [
       "{4: 4.0}"
      ]
     },
     "execution_count": 10,
     "metadata": {},
     "output_type": "execute_result"
    }
   ],
   "source": [
    "nx.average_degree_connectivity(reference_graphs.random_topology[14])"
   ]
  },
  {
   "cell_type": "code",
   "execution_count": 11,
   "id": "35ae0a6e",
   "metadata": {},
   "outputs": [
    {
     "ename": "NameError",
     "evalue": "name 'lattice_graph' is not defined",
     "output_type": "error",
     "traceback": [
      "\u001b[0;31m---------------------------------------------------------------------------\u001b[0m",
      "\u001b[0;31mNameError\u001b[0m                                 Traceback (most recent call last)",
      "Cell \u001b[0;32mIn[11], line 1\u001b[0m\n\u001b[0;32m----> 1\u001b[0m random_graph \u001b[38;5;241m=\u001b[39m nx\u001b[38;5;241m.\u001b[39mrandom_reference(\u001b[43mlattice_graph\u001b[49m, niter\u001b[38;5;241m=\u001b[39m\u001b[38;5;241m20\u001b[39m)\n\u001b[1;32m      2\u001b[0m nx\u001b[38;5;241m.\u001b[39mdraw_networkx(random_graph, nx\u001b[38;5;241m.\u001b[39mcircular_layout(random_graph))\n",
      "\u001b[0;31mNameError\u001b[0m: name 'lattice_graph' is not defined"
     ]
    }
   ],
   "source": [
    "random_graph = nx.random_reference(lattice_graph, niter=20)\n",
    "nx.draw_networkx(random_graph, nx.circular_layout(random_graph))"
   ]
  },
  {
   "cell_type": "code",
   "execution_count": null,
   "id": "093b2f55",
   "metadata": {},
   "outputs": [],
   "source": []
  },
  {
   "cell_type": "code",
   "execution_count": 6,
   "id": "5859765d",
   "metadata": {},
   "outputs": [
    {
     "ename": "NameError",
     "evalue": "name 'random_graph' is not defined",
     "output_type": "error",
     "traceback": [
      "\u001b[0;31m---------------------------------------------------------------------------\u001b[0m",
      "\u001b[0;31mNameError\u001b[0m                                 Traceback (most recent call last)",
      "Cell \u001b[0;32mIn[6], line 5\u001b[0m\n\u001b[1;32m      1\u001b[0m \u001b[38;5;28;01mfrom\u001b[39;00m \u001b[38;5;21;01mgentopo\u001b[39;00m\u001b[38;5;21;01m.\u001b[39;00m\u001b[38;5;21;01mtopology\u001b[39;00m \u001b[38;5;28;01mimport\u001b[39;00m measures\n\u001b[1;32m      2\u001b[0m \u001b[38;5;28;01mimport\u001b[39;00m \u001b[38;5;21;01mnumpy\u001b[39;00m \u001b[38;5;28;01mas\u001b[39;00m \u001b[38;5;21;01mnp\u001b[39;00m\n\u001b[0;32m----> 5\u001b[0m Lrand \u001b[38;5;241m=\u001b[39m nx\u001b[38;5;241m.\u001b[39maverage_shortest_path_length(\u001b[43mrandom_graph\u001b[49m)\n\u001b[1;32m      6\u001b[0m Clatt \u001b[38;5;241m=\u001b[39m nx\u001b[38;5;241m.\u001b[39maverage_clustering(lattice_graph)\n\u001b[1;32m      9\u001b[0m insufficient \u001b[38;5;241m=\u001b[39m \u001b[38;5;28;01mTrue\u001b[39;00m\n",
      "\u001b[0;31mNameError\u001b[0m: name 'random_graph' is not defined"
     ]
    }
   ],
   "source": [
    "from gentopo.topology import measures\n",
    "import numpy as np\n",
    "\n",
    "\n",
    "Lrand = nx.average_shortest_path_length(random_graph)\n",
    "Clatt = nx.average_clustering(lattice_graph)\n",
    "\n",
    "\n",
    "insufficient = True\n",
    "while insufficient:\n",
    "    graph = families.connected_small_world(20, 4, 0.5, 5)\n",
    "    degrees = [deg for (node, deg) in graph.degree()]\n",
    "    omega = measures.omega(graph, Lrand, Clatt)\n",
    "    conditions = {\n",
    "        \"degree\": [min(degrees), max(degrees)] == [3, 5],\n",
    "        \"omega\": 0.4 <= omega <= 0.6,\n",
    "    }\n",
    "\n",
    "    if all(conditions.values()):\n",
    "        small_world_graph = graph.copy()\n",
    "        insufficient = False\n",
    "\n",
    "\n",
    "print(degrees)\n",
    "print(np.mean(degrees))\n",
    "print(nx.average_degree_connectivity(small_world_graph))\n",
    "print(omega)\n",
    "nx.draw_networkx(small_world_graph, nx.circular_layout(small_world_graph))"
   ]
  },
  {
   "cell_type": "code",
   "execution_count": 7,
   "id": "6496b483",
   "metadata": {},
   "outputs": [
    {
     "ename": "NameError",
     "evalue": "name 'small_world_graph' is not defined",
     "output_type": "error",
     "traceback": [
      "\u001b[0;31m---------------------------------------------------------------------------\u001b[0m",
      "\u001b[0;31mNameError\u001b[0m                                 Traceback (most recent call last)",
      "Cell \u001b[0;32mIn[7], line 1\u001b[0m\n\u001b[0;32m----> 1\u001b[0m graph \u001b[38;5;241m=\u001b[39m \u001b[43msmall_world_graph\u001b[49m\n\u001b[1;32m      2\u001b[0m degrees \u001b[38;5;241m=\u001b[39m [deg \u001b[38;5;28;01mfor\u001b[39;00m (node, deg) \u001b[38;5;129;01min\u001b[39;00m graph\u001b[38;5;241m.\u001b[39mdegree()]\n\u001b[1;32m      3\u001b[0m \u001b[38;5;28mprint\u001b[39m(\u001b[38;5;28mlen\u001b[39m(graph\u001b[38;5;241m.\u001b[39medges))\n",
      "\u001b[0;31mNameError\u001b[0m: name 'small_world_graph' is not defined"
     ]
    }
   ],
   "source": [
    "graph = small_world_graph\n",
    "degrees = [deg for (node, deg) in graph.degree()]\n",
    "print(len(graph.edges))\n",
    "print(degrees)\n",
    "\n",
    "import random\n",
    "from itertools import chain\n",
    "\n",
    "rounds = 5\n",
    "dyads = [(u, v) for (u, v) in graph.edges]\n",
    "print(omega)\n",
    "interaction_sequence = []\n",
    "\n",
    "# This is 8 for n = 16\n",
    "ideal_matching_size = round(len(graph.nodes()) / 2)\n",
    "tries = 1000 * ideal_matching_size\n",
    "tries_since_ideal_matching = 0\n",
    "\n",
    "print(f\"Total available dyads: {len(dyads)}\")\n",
    "\n",
    "while tries:\n",
    "    matching = dict()\n",
    "    matching[\"edges\"] = set()\n",
    "    matching[\"edges\"].add(random.choice(dyads))\n",
    "    matching[\"nodes\"] = set(chain(*matching[\"edges\"]))\n",
    "\n",
    "    for dyad in dyads:\n",
    "        u, v = dyad\n",
    "        if u not in matching[\"nodes\"] and v not in matching[\"nodes\"]:\n",
    "            matching[\"edges\"].add((u, v))\n",
    "            matching[\"nodes\"].update({u, v})\n",
    "\n",
    "    if len(matching[\"edges\"]) == ideal_matching_size:\n",
    "        # Check if this matching would leave any participants with 2 or more skips\n",
    "\n",
    "        interaction_sequence.append(matching)\n",
    "        print(\"Matching added to sequence\")\n",
    "        for edge in matching[\"edges\"]:\n",
    "            dyads.remove(edge)\n",
    "        print(f\"{len(dyads)} remain for matching\")\n",
    "        if len(interaction_sequence) == rounds:\n",
    "            break\n",
    "\n",
    "    if tries_since_ideal_matching > 1000:\n",
    "        ideal_matching_size -= 1\n",
    "        print(f\"new ideal matching size: {ideal_matching_size}\")\n",
    "        tries_since_ideal_matching = 0\n",
    "\n",
    "    tries -= 1\n",
    "    tries_since_ideal_matching += 1\n",
    "\n",
    "print(f\"Interaction sequence for {rounds} rounds found:\")\n",
    "interaction_sequence"
   ]
  },
  {
   "cell_type": "code",
   "execution_count": 73,
   "id": "2a9b97f1",
   "metadata": {},
   "outputs": [],
   "source": [
    "# Validate interaction sequence by nodes present in sequence without 2+ skips in edges\n",
    "_n = 20\n",
    "\n",
    "# All nodes present in first matching\n",
    "if len(interaction_sequence[0][\"nodes\"]) < _n:\n",
    "    print(\"problem\")\n",
    "# If sequence is 1 or 2 rounds, it's okay by default?\n",
    "if len(interaction_sequence) < 3:\n",
    "    print(\"it's okay! No need to do anything\")\n",
    "# If 3 or more rounds, start checking for skips beyond one round\n",
    "previous_two_matchings = interaction_sequence[:2]\n",
    "# TODO: Handle situation where a node's edges have all been used?\n",
    "for matching in interaction_sequence[2:]:\n",
    "    for node in matching[\"nodes\"]:\n",
    "        # If in most recent round, no issue and continue\n",
    "        if node in previous_two_matchings[1][\"nodes\"]:\n",
    "            continue\n",
    "        # If not in most recent round, check second most\n",
    "        if node in previous_two_matchings[0][\"nodes\"]:\n",
    "            continue\n",
    "        # If in neither, big issue\n",
    "        else:\n",
    "            # TODO\n",
    "            print(f\"Node {node} not found in previous two matchings\")\n",
    "            break\n",
    "    previous_two_matchings[0] = previous_two_matchings[1]\n",
    "    previous_two_matchings[1] = matching"
   ]
  },
  {
   "cell_type": "code",
   "execution_count": 74,
   "id": "8f076175",
   "metadata": {},
   "outputs": [
    {
     "data": {
      "text/plain": [
       "[{'edges': {(0, 14), (1, 18), (2, 3), (6, 8), (9, 10), (13, 15), (16, 17)},\n",
       "  'nodes': {0, 1, 2, 3, 6, 8, 9, 10, 13, 14, 15, 16, 17, 18}},\n",
       " {'edges': {(0, 5), (6, 15), (8, 9), (17, 19)},\n",
       "  'nodes': {0, 5, 6, 8, 9, 15, 17, 19}}]"
      ]
     },
     "execution_count": 74,
     "metadata": {},
     "output_type": "execute_result"
    }
   ],
   "source": [
    "previous_two_matchings"
   ]
  },
  {
   "cell_type": "code",
   "execution_count": 75,
   "id": "0d65164f",
   "metadata": {},
   "outputs": [
    {
     "data": {
      "text/plain": [
       "{4: 4.0}"
      ]
     },
     "execution_count": 75,
     "metadata": {},
     "output_type": "execute_result"
    }
   ],
   "source": [
    "nx.average_degree_connectivity(random_graph)"
   ]
  },
  {
   "cell_type": "code",
   "execution_count": 76,
   "id": "0879b55e",
   "metadata": {},
   "outputs": [
    {
     "data": {
      "text/plain": [
       "[<matplotlib.lines.Line2D at 0x118717f70>]"
      ]
     },
     "execution_count": 76,
     "metadata": {},
     "output_type": "execute_result"
    },
    {
     "data": {
      "image/png": "[encoded data removed]",
      "text/plain": [
       "<Figure size 640x480 with 1 Axes>"
      ]
     },
     "metadata": {},
     "output_type": "display_data"
    }
   ],
   "source": [
    "from networkx.utils import cumulative_distribution\n",
    "\n",
    "keys, degrees = zip(*small_world_graph.degree())\n",
    "plt.plot(cumulative_distribution(degrees))"
   ]
  },
  {
   "cell_type": "code",
   "execution_count": 81,
   "metadata": {},
   "outputs": [
    {
     "data": {
      "text/plain": [
       "2.136842105263158"
      ]
     },
     "execution_count": 81,
     "metadata": {},
     "output_type": "execute_result"
    }
   ],
   "source": [
    "nx.average_shortest_path_length(random_graph)"
   ]
  },
  {
   "cell_type": "code",
   "execution_count": null,
   "metadata": {},
   "outputs": [],
   "source": []
  }
 ],
 "metadata": {
  "kernelspec": {
   "display_name": "Python 3 (ipykernel)",
   "language": "python",
   "name": "python3"
  },
  "language_info": {
   "codemirror_mode": {
    "name": "ipython",
    "version": 3
   },
   "file_extension": ".py",
   "mimetype": "text/x-python",
   "name": "python",
   "nbconvert_exporter": "python",
   "pygments_lexer": "ipython3",
   "version": "3.10.13"
  }
 },
 "nbformat": 4,
 "nbformat_minor": 5
}
