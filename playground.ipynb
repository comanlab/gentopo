{
 "cells": [
  {
   "cell_type": "code",
   "execution_count": 7,
   "id": "29822855-6ef0-465d-886f-676f8a9333ee",
   "metadata": {},
   "outputs": [],
   "source": [
    "import networkx as nx\n",
    "import matplotlib.pyplot as plt\n",
    "import glob\n",
    "import os\n",
    "import random\n",
    "import datetime\n",
    "import re\n",
    "import json"
   ]
  },
  {
   "cell_type": "code",
   "execution_count": 8,
   "id": "530507d8-0970-43a7-a4bb-7547b68b4baf",
   "metadata": {},
   "outputs": [
    {
     "name": "stdout",
     "output_type": "stream",
     "text": [
      "[0.4, 0.6]\n",
      "Value of omega: 0.20463732480944208\n",
      "[0.4, 0.6]\n",
      "Value of omega: 0.34967556544308465\n"
     ]
    },
    {
     "ename": "KeyboardInterrupt",
     "evalue": "",
     "output_type": "error",
     "traceback": [
      "\u001b[0;31m---------------------------------------------------------------------------\u001b[0m",
      "\u001b[0;31mKeyboardInterrupt\u001b[0m                         Traceback (most recent call last)",
      "\u001b[1;32m/Users/metis/Projects/cicl/code/network-topologies/playground.ipynb Cell 2\u001b[0m line \u001b[0;36m5\n\u001b[1;32m      <a href='vscode-notebook-cell:/Users/metis/Projects/cicl/code/network-topologies/playground.ipynb#W4sZmlsZQ%3D%3D?line=1'>2</a>\u001b[0m \u001b[39mfrom\u001b[39;00m \u001b[39msrc\u001b[39;00m \u001b[39mimport\u001b[39;00m validate_config\n\u001b[1;32m      <a href='vscode-notebook-cell:/Users/metis/Projects/cicl/code/network-topologies/playground.ipynb#W4sZmlsZQ%3D%3D?line=3'>4</a>\u001b[0m validate_config(\u001b[39m\"\u001b[39m\u001b[39mmoralnet\u001b[39m\u001b[39m\"\u001b[39m)\n\u001b[0;32m----> <a href='vscode-notebook-cell:/Users/metis/Projects/cicl/code/network-topologies/playground.ipynb#W4sZmlsZQ%3D%3D?line=4'>5</a>\u001b[0m graph \u001b[39m=\u001b[39m generate(\u001b[39m\"\u001b[39;49m\u001b[39mmoralnet\u001b[39;49m\u001b[39m\"\u001b[39;49m, test\u001b[39m=\u001b[39;49m\u001b[39mFalse\u001b[39;49;00m, write\u001b[39m=\u001b[39;49m\u001b[39mFalse\u001b[39;49;00m)\n",
      "File \u001b[0;32m~/Projects/cicl/code/network-topologies/src/generate.py:29\u001b[0m, in \u001b[0;36mgenerate\u001b[0;34m(study_name, test, write)\u001b[0m\n\u001b[1;32m     27\u001b[0m n \u001b[39m=\u001b[39m topology[\u001b[39m\"\u001b[39m\u001b[39mn\u001b[39m\u001b[39m\"\u001b[39m]\n\u001b[1;32m     28\u001b[0m params \u001b[39m=\u001b[39m topology[\u001b[39m\"\u001b[39m\u001b[39mparams\u001b[39m\u001b[39m\"\u001b[39m]\n\u001b[0;32m---> 29\u001b[0m graph \u001b[39m=\u001b[39m network_generator(n, params)\n\u001b[1;32m     31\u001b[0m \u001b[39mif\u001b[39;00m write:\n\u001b[1;32m     32\u001b[0m     \u001b[39m# TODO: Need to add identifiers for each topology?\u001b[39;00m\n\u001b[1;32m     33\u001b[0m     topology_id \u001b[39m=\u001b[39m create_topology_dir(study_name)\n",
      "File \u001b[0;32m~/Projects/cicl/code/network-topologies/src/generators/small_world.py:16\u001b[0m, in \u001b[0;36msmall_world\u001b[0;34m(n, params, seed)\u001b[0m\n\u001b[1;32m     14\u001b[0m \u001b[39mwhile\u001b[39;00m \u001b[39mnot\u001b[39;00m sufficient:\n\u001b[1;32m     15\u001b[0m     graph \u001b[39m=\u001b[39m nx\u001b[39m.\u001b[39mconnected_watts_strogatz_graph(n, k, p, tries\u001b[39m=\u001b[39m\u001b[39m100\u001b[39m, seed\u001b[39m=\u001b[39mseed)\n\u001b[0;32m---> 16\u001b[0m     omega \u001b[39m=\u001b[39m nx\u001b[39m.\u001b[39msmallworld\u001b[39m.\u001b[39momega(graph)\n\u001b[1;32m     17\u001b[0m     \u001b[39mprint\u001b[39m(omega_range)\n\u001b[1;32m     18\u001b[0m     \u001b[39mprint\u001b[39m(\u001b[39mf\u001b[39m\u001b[39m\"\u001b[39m\u001b[39mValue of omega: \u001b[39m\u001b[39m{\u001b[39;00momega\u001b[39m}\u001b[39;00m\u001b[39m\"\u001b[39m)\n",
      "File \u001b[0;32m<class 'networkx.utils.decorators.argmap'> compilation 18:6\u001b[0m, in \u001b[0;36margmap_omega_13\u001b[0;34m(G, niter, nrand, seed, backend, **backend_kwargs)\u001b[0m\n\u001b[1;32m      4\u001b[0m \u001b[39mimport\u001b[39;00m \u001b[39minspect\u001b[39;00m\n\u001b[1;32m      5\u001b[0m \u001b[39mimport\u001b[39;00m \u001b[39mitertools\u001b[39;00m\n\u001b[0;32m----> 6\u001b[0m \u001b[39mimport\u001b[39;00m \u001b[39mre\u001b[39;00m\n\u001b[1;32m      7\u001b[0m \u001b[39mimport\u001b[39;00m \u001b[39mwarnings\u001b[39;00m\n\u001b[1;32m      8\u001b[0m \u001b[39mfrom\u001b[39;00m \u001b[39mcollections\u001b[39;00m \u001b[39mimport\u001b[39;00m defaultdict\n",
      "File \u001b[0;32m~/.virtualenvs/network-topologies/lib/python3.10/site-packages/networkx/utils/backends.py:412\u001b[0m, in \u001b[0;36m_dispatch.__call__\u001b[0;34m(self, backend, *args, **kwargs)\u001b[0m\n\u001b[1;32m    409\u001b[0m \u001b[39mdef\u001b[39;00m \u001b[39m__call__\u001b[39m(\u001b[39mself\u001b[39m, \u001b[39m/\u001b[39m, \u001b[39m*\u001b[39margs, backend\u001b[39m=\u001b[39m\u001b[39mNone\u001b[39;00m, \u001b[39m*\u001b[39m\u001b[39m*\u001b[39mkwargs):\n\u001b[1;32m    410\u001b[0m     \u001b[39mif\u001b[39;00m \u001b[39mnot\u001b[39;00m backends:\n\u001b[1;32m    411\u001b[0m         \u001b[39m# Fast path if no backends are installed\u001b[39;00m\n\u001b[0;32m--> 412\u001b[0m         \u001b[39mreturn\u001b[39;00m \u001b[39mself\u001b[39;49m\u001b[39m.\u001b[39;49morig_func(\u001b[39m*\u001b[39;49margs, \u001b[39m*\u001b[39;49m\u001b[39m*\u001b[39;49mkwargs)\n\u001b[1;32m    414\u001b[0m     \u001b[39m# Use `backend_name` in this function instead of `backend`\u001b[39;00m\n\u001b[1;32m    415\u001b[0m     backend_name \u001b[39m=\u001b[39m backend\n",
      "File \u001b[0;32m~/.virtualenvs/network-topologies/lib/python3.10/site-packages/networkx/algorithms/smallworld.py:385\u001b[0m, in \u001b[0;36momega\u001b[0;34m(G, niter, nrand, seed)\u001b[0m\n\u001b[1;32m    381\u001b[0m niter_random_reference \u001b[39m=\u001b[39m niter \u001b[39m*\u001b[39m \u001b[39m2\u001b[39m\n\u001b[1;32m    383\u001b[0m \u001b[39mfor\u001b[39;00m _ \u001b[39min\u001b[39;00m \u001b[39mrange\u001b[39m(nrand):\n\u001b[1;32m    384\u001b[0m     \u001b[39m# Generate random graph\u001b[39;00m\n\u001b[0;32m--> 385\u001b[0m     Gr \u001b[39m=\u001b[39m random_reference(G, niter\u001b[39m=\u001b[39;49mniter_random_reference, seed\u001b[39m=\u001b[39;49mseed)\n\u001b[1;32m    386\u001b[0m     randMetrics[\u001b[39m\"\u001b[39m\u001b[39mL\u001b[39m\u001b[39m\"\u001b[39m]\u001b[39m.\u001b[39mappend(nx\u001b[39m.\u001b[39maverage_shortest_path_length(Gr))\n\u001b[1;32m    388\u001b[0m     \u001b[39m# Generate lattice graph\u001b[39;00m\n",
      "File \u001b[0;32m<class 'networkx.utils.decorators.argmap'> compilation 28:6\u001b[0m, in \u001b[0;36margmap_random_reference_23\u001b[0;34m(G, niter, connectivity, seed, backend, **backend_kwargs)\u001b[0m\n\u001b[1;32m      4\u001b[0m \u001b[39mimport\u001b[39;00m \u001b[39minspect\u001b[39;00m\n\u001b[1;32m      5\u001b[0m \u001b[39mimport\u001b[39;00m \u001b[39mitertools\u001b[39;00m\n\u001b[0;32m----> 6\u001b[0m \u001b[39mimport\u001b[39;00m \u001b[39mre\u001b[39;00m\n\u001b[1;32m      7\u001b[0m \u001b[39mimport\u001b[39;00m \u001b[39mwarnings\u001b[39;00m\n\u001b[1;32m      8\u001b[0m \u001b[39mfrom\u001b[39;00m \u001b[39mcollections\u001b[39;00m \u001b[39mimport\u001b[39;00m defaultdict\n",
      "File \u001b[0;32m~/.virtualenvs/network-topologies/lib/python3.10/site-packages/networkx/utils/backends.py:412\u001b[0m, in \u001b[0;36m_dispatch.__call__\u001b[0;34m(self, backend, *args, **kwargs)\u001b[0m\n\u001b[1;32m    409\u001b[0m \u001b[39mdef\u001b[39;00m \u001b[39m__call__\u001b[39m(\u001b[39mself\u001b[39m, \u001b[39m/\u001b[39m, \u001b[39m*\u001b[39margs, backend\u001b[39m=\u001b[39m\u001b[39mNone\u001b[39;00m, \u001b[39m*\u001b[39m\u001b[39m*\u001b[39mkwargs):\n\u001b[1;32m    410\u001b[0m     \u001b[39mif\u001b[39;00m \u001b[39mnot\u001b[39;00m backends:\n\u001b[1;32m    411\u001b[0m         \u001b[39m# Fast path if no backends are installed\u001b[39;00m\n\u001b[0;32m--> 412\u001b[0m         \u001b[39mreturn\u001b[39;00m \u001b[39mself\u001b[39;49m\u001b[39m.\u001b[39;49morig_func(\u001b[39m*\u001b[39;49margs, \u001b[39m*\u001b[39;49m\u001b[39m*\u001b[39;49mkwargs)\n\u001b[1;32m    414\u001b[0m     \u001b[39m# Use `backend_name` in this function instead of `backend`\u001b[39;00m\n\u001b[1;32m    415\u001b[0m     backend_name \u001b[39m=\u001b[39m backend\n",
      "File \u001b[0;32m~/.virtualenvs/network-topologies/lib/python3.10/site-packages/networkx/algorithms/smallworld.py:108\u001b[0m, in \u001b[0;36mrandom_reference\u001b[0;34m(G, niter, connectivity, seed)\u001b[0m\n\u001b[1;32m    105\u001b[0m G\u001b[39m.\u001b[39mremove_edge(c, d)\n\u001b[1;32m    107\u001b[0m \u001b[39m# Check if the graph is still connected\u001b[39;00m\n\u001b[0;32m--> 108\u001b[0m \u001b[39mif\u001b[39;00m connectivity \u001b[39mand\u001b[39;00m local_conn(G, a, b) \u001b[39m==\u001b[39m \u001b[39m0\u001b[39m:\n\u001b[1;32m    109\u001b[0m     \u001b[39m# Not connected, revert the swap\u001b[39;00m\n\u001b[1;32m    110\u001b[0m     G\u001b[39m.\u001b[39mremove_edge(a, d)\n\u001b[1;32m    111\u001b[0m     G\u001b[39m.\u001b[39mremove_edge(c, b)\n",
      "File \u001b[0;32m~/.virtualenvs/network-topologies/lib/python3.10/site-packages/networkx/utils/backends.py:412\u001b[0m, in \u001b[0;36m_dispatch.__call__\u001b[0;34m(self, backend, *args, **kwargs)\u001b[0m\n\u001b[1;32m    409\u001b[0m \u001b[39mdef\u001b[39;00m \u001b[39m__call__\u001b[39m(\u001b[39mself\u001b[39m, \u001b[39m/\u001b[39m, \u001b[39m*\u001b[39margs, backend\u001b[39m=\u001b[39m\u001b[39mNone\u001b[39;00m, \u001b[39m*\u001b[39m\u001b[39m*\u001b[39mkwargs):\n\u001b[1;32m    410\u001b[0m     \u001b[39mif\u001b[39;00m \u001b[39mnot\u001b[39;00m backends:\n\u001b[1;32m    411\u001b[0m         \u001b[39m# Fast path if no backends are installed\u001b[39;00m\n\u001b[0;32m--> 412\u001b[0m         \u001b[39mreturn\u001b[39;00m \u001b[39mself\u001b[39;49m\u001b[39m.\u001b[39;49morig_func(\u001b[39m*\u001b[39;49margs, \u001b[39m*\u001b[39;49m\u001b[39m*\u001b[39;49mkwargs)\n\u001b[1;32m    414\u001b[0m     \u001b[39m# Use `backend_name` in this function instead of `backend`\u001b[39;00m\n\u001b[1;32m    415\u001b[0m     backend_name \u001b[39m=\u001b[39m backend\n",
      "File \u001b[0;32m~/.virtualenvs/network-topologies/lib/python3.10/site-packages/networkx/algorithms/connectivity/connectivity.py:658\u001b[0m, in \u001b[0;36mlocal_edge_connectivity\u001b[0;34m(G, s, t, flow_func, auxiliary, residual, cutoff)\u001b[0m\n\u001b[1;32m    655\u001b[0m \u001b[39melif\u001b[39;00m flow_func \u001b[39mis\u001b[39;00m boykov_kolmogorov:\n\u001b[1;32m    656\u001b[0m     kwargs[\u001b[39m\"\u001b[39m\u001b[39mcutoff\u001b[39m\u001b[39m\"\u001b[39m] \u001b[39m=\u001b[39m cutoff\n\u001b[0;32m--> 658\u001b[0m \u001b[39mreturn\u001b[39;00m nx\u001b[39m.\u001b[39;49mmaximum_flow_value(H, s, t, \u001b[39m*\u001b[39;49m\u001b[39m*\u001b[39;49mkwargs)\n",
      "File \u001b[0;32m~/.virtualenvs/network-topologies/lib/python3.10/site-packages/networkx/utils/backends.py:412\u001b[0m, in \u001b[0;36m_dispatch.__call__\u001b[0;34m(self, backend, *args, **kwargs)\u001b[0m\n\u001b[1;32m    409\u001b[0m \u001b[39mdef\u001b[39;00m \u001b[39m__call__\u001b[39m(\u001b[39mself\u001b[39m, \u001b[39m/\u001b[39m, \u001b[39m*\u001b[39margs, backend\u001b[39m=\u001b[39m\u001b[39mNone\u001b[39;00m, \u001b[39m*\u001b[39m\u001b[39m*\u001b[39mkwargs):\n\u001b[1;32m    410\u001b[0m     \u001b[39mif\u001b[39;00m \u001b[39mnot\u001b[39;00m backends:\n\u001b[1;32m    411\u001b[0m         \u001b[39m# Fast path if no backends are installed\u001b[39;00m\n\u001b[0;32m--> 412\u001b[0m         \u001b[39mreturn\u001b[39;00m \u001b[39mself\u001b[39;49m\u001b[39m.\u001b[39;49morig_func(\u001b[39m*\u001b[39;49margs, \u001b[39m*\u001b[39;49m\u001b[39m*\u001b[39;49mkwargs)\n\u001b[1;32m    414\u001b[0m     \u001b[39m# Use `backend_name` in this function instead of `backend`\u001b[39;00m\n\u001b[1;32m    415\u001b[0m     backend_name \u001b[39m=\u001b[39m backend\n",
      "File \u001b[0;32m~/.virtualenvs/network-topologies/lib/python3.10/site-packages/networkx/algorithms/flow/maxflow.py:301\u001b[0m, in \u001b[0;36mmaximum_flow_value\u001b[0;34m(flowG, _s, _t, capacity, flow_func, **kwargs)\u001b[0m\n\u001b[1;32m    298\u001b[0m \u001b[39mif\u001b[39;00m \u001b[39mnot\u001b[39;00m \u001b[39mcallable\u001b[39m(flow_func):\n\u001b[1;32m    299\u001b[0m     \u001b[39mraise\u001b[39;00m nx\u001b[39m.\u001b[39mNetworkXError(\u001b[39m\"\u001b[39m\u001b[39mflow_func has to be callable.\u001b[39m\u001b[39m\"\u001b[39m)\n\u001b[0;32m--> 301\u001b[0m R \u001b[39m=\u001b[39m flow_func(flowG, _s, _t, capacity\u001b[39m=\u001b[39;49mcapacity, value_only\u001b[39m=\u001b[39;49m\u001b[39mTrue\u001b[39;49;00m, \u001b[39m*\u001b[39;49m\u001b[39m*\u001b[39;49mkwargs)\n\u001b[1;32m    303\u001b[0m \u001b[39mreturn\u001b[39;00m R\u001b[39m.\u001b[39mgraph[\u001b[39m\"\u001b[39m\u001b[39mflow_value\u001b[39m\u001b[39m\"\u001b[39m]\n",
      "File \u001b[0;32m~/.virtualenvs/network-topologies/lib/python3.10/site-packages/networkx/utils/backends.py:412\u001b[0m, in \u001b[0;36m_dispatch.__call__\u001b[0;34m(self, backend, *args, **kwargs)\u001b[0m\n\u001b[1;32m    409\u001b[0m \u001b[39mdef\u001b[39;00m \u001b[39m__call__\u001b[39m(\u001b[39mself\u001b[39m, \u001b[39m/\u001b[39m, \u001b[39m*\u001b[39margs, backend\u001b[39m=\u001b[39m\u001b[39mNone\u001b[39;00m, \u001b[39m*\u001b[39m\u001b[39m*\u001b[39mkwargs):\n\u001b[1;32m    410\u001b[0m     \u001b[39mif\u001b[39;00m \u001b[39mnot\u001b[39;00m backends:\n\u001b[1;32m    411\u001b[0m         \u001b[39m# Fast path if no backends are installed\u001b[39;00m\n\u001b[0;32m--> 412\u001b[0m         \u001b[39mreturn\u001b[39;00m \u001b[39mself\u001b[39;49m\u001b[39m.\u001b[39;49morig_func(\u001b[39m*\u001b[39;49margs, \u001b[39m*\u001b[39;49m\u001b[39m*\u001b[39;49mkwargs)\n\u001b[1;32m    414\u001b[0m     \u001b[39m# Use `backend_name` in this function instead of `backend`\u001b[39;00m\n\u001b[1;32m    415\u001b[0m     backend_name \u001b[39m=\u001b[39m backend\n",
      "File \u001b[0;32m~/.virtualenvs/network-topologies/lib/python3.10/site-packages/networkx/algorithms/flow/edmondskarp.py:248\u001b[0m, in \u001b[0;36medmonds_karp\u001b[0;34m(G, s, t, capacity, residual, value_only, cutoff)\u001b[0m\n\u001b[1;32m    125\u001b[0m \u001b[39m@nx\u001b[39m\u001b[39m.\u001b[39m_dispatch(\n\u001b[1;32m    126\u001b[0m     graphs\u001b[39m=\u001b[39m{\u001b[39m\"\u001b[39m\u001b[39mG\u001b[39m\u001b[39m\"\u001b[39m: \u001b[39m0\u001b[39m, \u001b[39m\"\u001b[39m\u001b[39mresidual?\u001b[39m\u001b[39m\"\u001b[39m: \u001b[39m4\u001b[39m},\n\u001b[1;32m    127\u001b[0m     edge_attrs\u001b[39m=\u001b[39m{\u001b[39m\"\u001b[39m\u001b[39mcapacity\u001b[39m\u001b[39m\"\u001b[39m: \u001b[39mfloat\u001b[39m(\u001b[39m\"\u001b[39m\u001b[39minf\u001b[39m\u001b[39m\"\u001b[39m)},\n\u001b[0;32m   (...)\u001b[0m\n\u001b[1;32m    132\u001b[0m     G, s, t, capacity\u001b[39m=\u001b[39m\u001b[39m\"\u001b[39m\u001b[39mcapacity\u001b[39m\u001b[39m\"\u001b[39m, residual\u001b[39m=\u001b[39m\u001b[39mNone\u001b[39;00m, value_only\u001b[39m=\u001b[39m\u001b[39mFalse\u001b[39;00m, cutoff\u001b[39m=\u001b[39m\u001b[39mNone\u001b[39;00m\n\u001b[1;32m    133\u001b[0m ):\n\u001b[1;32m    134\u001b[0m \u001b[39m    \u001b[39m\u001b[39m\"\"\"Find a maximum single-commodity flow using the Edmonds-Karp algorithm.\u001b[39;00m\n\u001b[1;32m    135\u001b[0m \n\u001b[1;32m    136\u001b[0m \u001b[39m    This function returns the residual network resulting after computing\u001b[39;00m\n\u001b[0;32m   (...)\u001b[0m\n\u001b[1;32m    246\u001b[0m \n\u001b[1;32m    247\u001b[0m \u001b[39m    \"\"\"\u001b[39;00m\n\u001b[0;32m--> 248\u001b[0m     R \u001b[39m=\u001b[39m edmonds_karp_impl(G, s, t, capacity, residual, cutoff)\n\u001b[1;32m    249\u001b[0m     R\u001b[39m.\u001b[39mgraph[\u001b[39m\"\u001b[39m\u001b[39malgorithm\u001b[39m\u001b[39m\"\u001b[39m] \u001b[39m=\u001b[39m \u001b[39m\"\u001b[39m\u001b[39medmonds_karp\u001b[39m\u001b[39m\"\u001b[39m\n\u001b[1;32m    250\u001b[0m     \u001b[39mreturn\u001b[39;00m R\n",
      "File \u001b[0;32m~/.virtualenvs/network-topologies/lib/python3.10/site-packages/networkx/algorithms/flow/edmondskarp.py:109\u001b[0m, in \u001b[0;36medmonds_karp_impl\u001b[0;34m(G, s, t, capacity, residual, cutoff)\u001b[0m\n\u001b[1;32m    106\u001b[0m     \u001b[39mraise\u001b[39;00m nx\u001b[39m.\u001b[39mNetworkXError(\u001b[39m\"\u001b[39m\u001b[39msource and sink are the same node\u001b[39m\u001b[39m\"\u001b[39m)\n\u001b[1;32m    108\u001b[0m \u001b[39mif\u001b[39;00m residual \u001b[39mis\u001b[39;00m \u001b[39mNone\u001b[39;00m:\n\u001b[0;32m--> 109\u001b[0m     R \u001b[39m=\u001b[39m build_residual_network(G, capacity)\n\u001b[1;32m    110\u001b[0m \u001b[39melse\u001b[39;00m:\n\u001b[1;32m    111\u001b[0m     R \u001b[39m=\u001b[39m residual\n",
      "File \u001b[0;32m~/.virtualenvs/network-topologies/lib/python3.10/site-packages/networkx/utils/backends.py:412\u001b[0m, in \u001b[0;36m_dispatch.__call__\u001b[0;34m(self, backend, *args, **kwargs)\u001b[0m\n\u001b[1;32m    409\u001b[0m \u001b[39mdef\u001b[39;00m \u001b[39m__call__\u001b[39m(\u001b[39mself\u001b[39m, \u001b[39m/\u001b[39m, \u001b[39m*\u001b[39margs, backend\u001b[39m=\u001b[39m\u001b[39mNone\u001b[39;00m, \u001b[39m*\u001b[39m\u001b[39m*\u001b[39mkwargs):\n\u001b[1;32m    410\u001b[0m     \u001b[39mif\u001b[39;00m \u001b[39mnot\u001b[39;00m backends:\n\u001b[1;32m    411\u001b[0m         \u001b[39m# Fast path if no backends are installed\u001b[39;00m\n\u001b[0;32m--> 412\u001b[0m         \u001b[39mreturn\u001b[39;00m \u001b[39mself\u001b[39;49m\u001b[39m.\u001b[39;49morig_func(\u001b[39m*\u001b[39;49margs, \u001b[39m*\u001b[39;49m\u001b[39m*\u001b[39;49mkwargs)\n\u001b[1;32m    414\u001b[0m     \u001b[39m# Use `backend_name` in this function instead of `backend`\u001b[39;00m\n\u001b[1;32m    415\u001b[0m     backend_name \u001b[39m=\u001b[39m backend\n",
      "File \u001b[0;32m~/.virtualenvs/network-topologies/lib/python3.10/site-packages/networkx/algorithms/flow/utils.py:140\u001b[0m, in \u001b[0;36mbuild_residual_network\u001b[0;34m(G, capacity)\u001b[0m\n\u001b[1;32m    136\u001b[0m \u001b[39mif\u001b[39;00m \u001b[39mnot\u001b[39;00m R\u001b[39m.\u001b[39mhas_edge(u, v):\n\u001b[1;32m    137\u001b[0m     \u001b[39m# Both (u, v) and (v, u) must be present in the residual\u001b[39;00m\n\u001b[1;32m    138\u001b[0m     \u001b[39m# network.\u001b[39;00m\n\u001b[1;32m    139\u001b[0m     R\u001b[39m.\u001b[39madd_edge(u, v, capacity\u001b[39m=\u001b[39mr)\n\u001b[0;32m--> 140\u001b[0m     R\u001b[39m.\u001b[39;49madd_edge(v, u, capacity\u001b[39m=\u001b[39;49m\u001b[39m0\u001b[39;49m)\n\u001b[1;32m    141\u001b[0m \u001b[39melse\u001b[39;00m:\n\u001b[1;32m    142\u001b[0m     \u001b[39m# The edge (u, v) was added when (v, u) was visited.\u001b[39;00m\n\u001b[1;32m    143\u001b[0m     R[u][v][\u001b[39m\"\u001b[39m\u001b[39mcapacity\u001b[39m\u001b[39m\"\u001b[39m] \u001b[39m=\u001b[39m r\n",
      "File \u001b[0;32m~/.virtualenvs/network-topologies/lib/python3.10/site-packages/networkx/classes/digraph.py:708\u001b[0m, in \u001b[0;36mDiGraph.add_edge\u001b[0;34m(self, u_of_edge, v_of_edge, **attr)\u001b[0m\n\u001b[1;32m    706\u001b[0m     \u001b[39mself\u001b[39m\u001b[39m.\u001b[39m_node[v] \u001b[39m=\u001b[39m \u001b[39mself\u001b[39m\u001b[39m.\u001b[39mnode_attr_dict_factory()\n\u001b[1;32m    707\u001b[0m \u001b[39m# add the edge\u001b[39;00m\n\u001b[0;32m--> 708\u001b[0m datadict \u001b[39m=\u001b[39m \u001b[39mself\u001b[39m\u001b[39m.\u001b[39m_adj[u]\u001b[39m.\u001b[39mget(v, \u001b[39mself\u001b[39;49m\u001b[39m.\u001b[39;49medge_attr_dict_factory())\n\u001b[1;32m    709\u001b[0m datadict\u001b[39m.\u001b[39mupdate(attr)\n\u001b[1;32m    710\u001b[0m \u001b[39mself\u001b[39m\u001b[39m.\u001b[39m_succ[u][v] \u001b[39m=\u001b[39m datadict\n",
      "\u001b[0;31mKeyboardInterrupt\u001b[0m: "
     ]
    }
   ],
   "source": [
    "from src import generate\n",
    "from src import validate_config\n",
    "\n",
    "validate_config(\"moralnet\")\n",
    "graph = generate(\"moralnet\", test=False, write=False)"
   ]
  },
  {
   "cell_type": "code",
   "execution_count": null,
   "metadata": {},
   "outputs": [
    {
     "name": "stdout",
     "output_type": "stream",
     "text": [
      "Total available dyads: 32\n",
      "Matching added to sequence\n",
      "24 remain for matching\n",
      "new ideal matching size: 8\n",
      "Matching added to sequence\n",
      "17 remain for matching\n",
      "Matching added to sequence\n",
      "10 remain for matching\n",
      "Interaction sequence for 3 rounds found:\n"
     ]
    },
    {
     "data": {
      "text/plain": [
       "[{(0, 8), (1, 2), (3, 4), (5, 6), (7, 9), (10, 11), (12, 13), (14, 15)},\n",
       " {(0, 15), (1, 3), (2, 4), (5, 9), (6, 8), (10, 12), (11, 13)},\n",
       " {(0, 2), (3, 5), (4, 6), (7, 8), (9, 11), (12, 15), (13, 14)}]"
      ]
     },
     "execution_count": 6,
     "metadata": {},
     "output_type": "execute_result"
    }
   ],
   "source": [
    "import random\n",
    "from itertools import chain\n",
    "\n",
    "rounds = 3\n",
    "dyads = [(u, v) for (u, v) in graph.edges]\n",
    "interaction_sequence = []\n",
    "tries = 5000\n",
    "\n",
    "# This is 8 for n = 16\n",
    "ideal_matching_size = round(len(graph.nodes()) / 2)\n",
    "tries_since_ideal_matching = 0\n",
    "\n",
    "print(f\"Total available dyads: {len(dyads)}\")\n",
    "\n",
    "while tries:\n",
    "    matching = set()\n",
    "    matching.add(random.choice(dyads))\n",
    "\n",
    "    nodes_in_matching = set(chain(*matching))\n",
    "\n",
    "    for dyad in dyads:\n",
    "        u, v = dyad\n",
    "        if u not in nodes_in_matching and v not in nodes_in_matching:\n",
    "            matching.add((u, v))\n",
    "            nodes_in_matching.update({u, v})\n",
    "\n",
    "    if len(matching) == ideal_matching_size:\n",
    "        interaction_sequence.append(matching)\n",
    "        print(\"Matching added to sequence\")\n",
    "        for matched in matching:\n",
    "            dyads.remove(matched)\n",
    "        print(f\"{len(dyads)} remain for matching\")\n",
    "        if len(interaction_sequence) == rounds:\n",
    "            break\n",
    "\n",
    "    if tries_since_ideal_matching > 1000:\n",
    "        print(f\"new ideal matching size: {ideal_matching_size}\")\n",
    "        ideal_matching_size -= 1\n",
    "        tries_since_ideal_matching = 0\n",
    "\n",
    "    tries -= 1\n",
    "    tries_since_ideal_matching += 1\n",
    "\n",
    "print(f\"Interaction sequence for {rounds} rounds found:\")\n",
    "interaction_sequence"
   ]
  },
  {
   "cell_type": "code",
   "execution_count": null,
   "metadata": {},
   "outputs": [],
   "source": []
  }
 ],
 "metadata": {
  "kernelspec": {
   "display_name": "Python 3 (ipykernel)",
   "language": "python",
   "name": "python3"
  },
  "language_info": {
   "codemirror_mode": {
    "name": "ipython",
    "version": 3
   },
   "file_extension": ".py",
   "mimetype": "text/x-python",
   "name": "python",
   "nbconvert_exporter": "python",
   "pygments_lexer": "ipython3",
   "version": "3.10.8"
  }
 },
 "nbformat": 4,
 "nbformat_minor": 5
}
